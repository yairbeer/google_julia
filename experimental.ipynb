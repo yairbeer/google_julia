{
 "cells": [
  {
   "cell_type": "code",
   "execution_count": null,
   "metadata": {
    "collapsed": true
   },
   "outputs": [],
   "source": [
    "import glob\n",
    "from skimage.io import imread\n",
    "\n",
    "path = \"data\"\n",
    "train_names = glob.glob(path + \"/trainResized/*\")\n",
    "train_files = []\n",
    "for nameFile in train_names:\n",
    "    train_files.append(imread(nameFile))\n",
    "\n",
    "test_names = glob.glob(path + \"/testResized/*\")\n",
    "test_files = []\n",
    "for nameFile in test_names:\n",
    "    test_files.append(imread(nameFile))\n",
    "\n",
    "print(train_files[0].shape, train_files[0].type)\n"
   ]
  },
  {
   "cell_type": "code",
   "execution_count": null,
   "outputs": [],
   "source": [
    ""
   ]
  }
 ],
 "metadata": {
  "kernelspec": {
   "display_name": "Python 2",
   "language": "python",
   "name": "python2"
  },
  "language_info": {
   "codemirror_mode": {
    "name": "ipython",
    "version": 2.0
   },
   "file_extension": ".py",
   "mimetype": "text/x-python",
   "name": "python",
   "nbconvert_exporter": "python",
   "pygments_lexer": "ipython2",
   "version": "2.7.6"
  }
 },
 "nbformat": 4,
 "nbformat_minor": 0
}