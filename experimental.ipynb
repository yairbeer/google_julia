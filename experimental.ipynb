{
 "cells": [
  {
   "cell_type": "code",
   "execution_count": 10,
   "metadata": {
    "collapsed": true
   },
   "outputs": [
    {
     "name": "stdout",
     "output_type": "stream",
     "text": [
      "(6283, 30, 30) (6220, 30, 30)\n[ 0  1  2  3  4  5  6  7  8  9 10 11 12 13 14 15 16 17 18 19 20 21 22 23 24\n 25 26 27 28 29 30 31 32 33 34 35 36 37 38 39 40 41 42 43 44 45 46 47 48 49\n 50 51 52 53 54 55 56 57 58 59 60 61]\n"
     ]
    }
   ],
   "source": [
    "\"\"\"\n",
    "Import images\n",
    "\"\"\"\n",
    "\n",
    "import glob\n",
    "import numpy as np\n",
    "import pandas as pd\n",
    "from skimage.io import imread, imshow\n",
    "from skimage.color import rgb2gray\n",
    "from sklearn.preprocessing import LabelEncoder\n",
    "\n",
    "\n",
    "def imp_img(img_name):\n",
    "    # read\n",
    "    img = imread(img_name)\n",
    "    # convert to gray\n",
    "    if len(img.shape) == 3:\n",
    "        img = rgb2gray(img)\n",
    "    return img\n",
    "\n",
    "img_size = 30\n",
    "\n",
    "path = \"data\"\n",
    "train_names = sorted(glob.glob(path + \"/trainResized/*\"))\n",
    "train_labels_index = pd.DataFrame.from_csv('trainLabels.csv')\n",
    "train_files = np.ones((len(train_names), img_size, img_size))\n",
    "train_labels = np.ones((len(train_names),)).astype(str)\n",
    "for i, name_file in enumerate(train_names):\n",
    "    \n",
    "    image = imp_img(name_file)\n",
    "    train_files[i, :, :] = image\n",
    "    train_labels[i] = train_labels_index.loc[int(name_file.split('.')[0].split('/')[-1])]['Class']\n",
    "\n",
    "test_names = sorted(glob.glob(path + \"/testResized/*\"))\n",
    "test_files = np.ones((len(test_names), img_size, img_size))\n",
    "for i, name_file in enumerate(test_names):\n",
    "    image = imp_img(name_file)\n",
    "    test_files[i, :, :] = image\n",
    "\n",
    "label_encoder = LabelEncoder()\n",
    "train_labels = label_encoder.fit_transform(train_labels)\n",
    "print(train_files.shape, test_files.shape)\n",
    "print(np.unique(train_labels))"
   ]
  },
  {
   "cell_type": "code",
   "execution_count": 11,
   "metadata": {},
   "outputs": [
    {
     "name": "stdout",
     "output_type": "stream",
     "text": [
      "(4714, 30, 30) (4714,)\n(1569, 30, 30) (1569,)\n"
     ]
    }
   ],
   "source": [
    "\"\"\"\n",
    "Configure train/test\n",
    "\"\"\"\n",
    "\n",
    "cv_prob = np.random.sample(train_files.shape[0])\n",
    "train_cv_ind = cv_prob < 0.75\n",
    "test_cv_ind = cv_prob >= 0.75\n",
    "X_train, y_train = train_files[train_cv_ind, :, :], train_labels[train_cv_ind]\n",
    "X_test, y_test = train_files[test_cv_ind, :, :], train_labels[test_cv_ind]\n",
    "\n",
    "print(X_train.shape, y_train.shape)\n",
    "print(X_test.shape, y_test.shape)"
   ]
  },
  {
   "cell_type": "code",
   "execution_count": 12,
   "metadata": {},
   "outputs": [
    {
     "name": "stdout",
     "output_type": "stream",
     "text": [
      "X_train shape: (4714, 1, 30, 30)\n4714 train samples\n1569 test samples\n"
     ]
    }
   ],
   "source": [
    "\"\"\"\n",
    "Compile Model\n",
    "\"\"\"\n",
    "\n",
    "from keras.datasets import mnist\n",
    "from keras.models import Sequential\n",
    "from keras.layers.core import Dense, Dropout, Activation, Flatten\n",
    "from keras.layers.convolutional import Convolution2D, MaxPooling2D\n",
    "from keras.utils import np_utils\n",
    "\n",
    "np.random.seed(1337)  # for reproducibility\n",
    "\n",
    "batch_size = 128\n",
    "nb_classes = 62\n",
    "nb_epoch = 12\n",
    "\n",
    "# input image dimensions\n",
    "img_rows, img_cols = img_size, img_size\n",
    "# number of convolutional filters to use\n",
    "nb_filters = 32\n",
    "# size of pooling area for max pooling\n",
    "nb_pool = 3\n",
    "# convolution kernel size\n",
    "nb_conv = 6\n",
    "\n",
    "# the data, shuffled and split between train and test sets\n",
    "# (X_train, y_train), (X_test, y_test) = mnist.load_data()\n",
    "X_train = X_train.reshape(X_train.shape[0], 1, img_rows, img_cols)\n",
    "X_test = X_test.reshape(X_test.shape[0], 1, img_rows, img_cols)\n",
    "X_train = X_train.astype('float32')\n",
    "X_test = X_test.astype('float32')\n",
    "X_train /= 255\n",
    "X_test /= 255\n",
    "print('X_train shape:', X_train.shape)\n",
    "print(X_train.shape[0], 'train samples')\n",
    "print(X_test.shape[0], 'test samples')\n",
    "\n",
    "# convert class vectors to binary class matrices\n",
    "Y_train = np_utils.to_categorical(y_train, nb_classes)\n",
    "Y_test = np_utils.to_categorical(y_test, nb_classes)\n",
    "\n",
    "model = Sequential()\n",
    "\n",
    "model.add(Convolution2D(nb_filters, nb_conv, nb_conv,\n",
    "                        border_mode='valid',\n",
    "                        input_shape=(1, img_rows, img_cols)))\n",
    "model.add(Activation('relu'))\n",
    "model.add(Convolution2D(nb_filters, nb_conv, nb_conv))\n",
    "model.add(Activation('relu'))\n",
    "model.add(MaxPooling2D(pool_size=(nb_pool, nb_pool)))\n",
    "model.add(Dropout(0.25))\n",
    "\n",
    "model.add(Flatten())\n",
    "model.add(Dense(128))\n",
    "model.add(Activation('relu'))\n",
    "model.add(Dropout(0.5))\n",
    "model.add(Dense(nb_classes))\n",
    "model.add(Activation('softmax'))\n",
    "\n",
    "model.compile(loss='categorical_crossentropy', optimizer='adadelta')"
   ]
  },
  {
   "cell_type": "code",
   "execution_count": 5,
   "metadata": {},
   "outputs": [],
   "source": [
    "\"\"\"\n",
    "CV model\n",
    "\"\"\"\n",
    "model.fit(X_train, Y_train, batch_size=batch_size, nb_epoch=nb_epoch,\n",
    "          show_accuracy=True, verbose=1, validation_data=(X_test, Y_test))\n",
    "score = model.evaluate(X_test, Y_test, show_accuracy=True, verbose=0)\n",
    "print('Test score:', score[0])\n",
    "print('Test accuracy:', score[1])"
   ]
  },
  {
   "cell_type": "code",
   "execution_count": 7,
   "metadata": {},
   "outputs": [],
   "source": [
    "\"\"\"\n",
    "Get accuracy\n",
    "\"\"\"\n",
    "predicted_results = model.predict_classes(X_test, batch_size=batch_size, verbose=1)\n",
    "print(predicted_results)"
   ]
  },
  {
   "cell_type": "code",
   "execution_count": null,
   "metadata": {},
   "outputs": [],
   "source": [
    ""
   ]
  }
 ],
 "metadata": {
  "kernelspec": {
   "display_name": "Python 2",
   "language": "python",
   "name": "python2"
  },
  "language_info": {
   "codemirror_mode": {
    "name": "ipython",
    "version": 2.0
   },
   "file_extension": ".py",
   "mimetype": "text/x-python",
   "name": "python",
   "nbconvert_exporter": "python",
   "pygments_lexer": "ipython2",
   "version": "2.7.6"
  }
 },
 "nbformat": 4,
 "nbformat_minor": 0
}