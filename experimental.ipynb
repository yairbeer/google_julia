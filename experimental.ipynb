{
 "cells": [
  {
   "cell_type": "code",
   "execution_count": 42,
   "metadata": {
    "collapsed": true
   },
   "outputs": [
    {
     "name": "stdout",
     "output_type": "stream",
     "text": [
      "(6283, 20, 20) (6220, 20, 20)\n[ 0  1  2  3  4  5  6  7  8  9 10 11 12 13 14 15 16 17 18 19 20 21 22 23 24\n 25 26 27 28 29 30 31 32 33 34 35 36 37 38 39 40 41 42 43 44 45 46 47 48 49\n 50 51 52 53 54 55 56 57 58 59 60 61]\n"
     ]
    }
   ],
   "source": [
    "\"\"\"\n",
    "Import images\n",
    "\"\"\"\n",
    "\n",
    "import glob\n",
    "import numpy as np\n",
    "import pandas as pd\n",
    "from skimage.io import imread\n",
    "from skimage.color import rgb2gray\n",
    "from sklearn.preprocessing import LabelEncoder\n",
    "\n",
    "path = \"data\"\n",
    "train_names = sorted(glob.glob(path + \"/trainResized/*\"))\n",
    "train_labels_index = pd.DataFrame.from_csv('trainLabels.csv')\n",
    "train_files = np.ones((len(train_names), 20, 20))\n",
    "train_labels = np.ones((len(train_names),)).astype(str)\n",
    "for i, nameFile in enumerate(train_names):\n",
    "    # Convert colored convert to gray\n",
    "    if len(imread(nameFile).shape) == 2:\n",
    "        train_files[i, :, :] = (imread(nameFile))\n",
    "    else:\n",
    "        train_files[i, :, :] = (rgb2gray(imread(nameFile)))\n",
    "    train_labels[i] = train_labels_index.loc[int(nameFile.split('.')[0].split('/')[-1])]['Class']\n",
    "\n",
    "test_names = sorted(glob.glob(path + \"/testResized/*\"))\n",
    "test_files = np.ones((len(test_files), 20, 20))\n",
    "for i, nameFile in enumerate(test_names):\n",
    "    # Convert colored convert to gray\n",
    "    if len(imread(nameFile).shape) == 2:\n",
    "        test_files[i, :, :] = (imread(nameFile))\n",
    "    else:\n",
    "        test_files[i, :, :] = (rgb2gray(imread(nameFile)))\n",
    "\n",
    "label_encoder = LabelEncoder()\n",
    "train_labels = label_encoder.fit_transform(train_labels)\n",
    "print(train_files.shape, test_files.shape)\n",
    "print(np.unique(train_labels))\n"
   ]
  },
  {
   "cell_type": "code",
   "execution_count": 43,
   "metadata": {},
   "outputs": [
    {
     "name": "stdout",
     "output_type": "stream",
     "text": [
      "(4681, 20, 20) (4681,)\n(1602, 20, 20) (1602,)\n"
     ]
    }
   ],
   "source": [
    "\"\"\"\n",
    "Configure train/test\n",
    "\"\"\"\n",
    "\n",
    "cv_prob = np.random.sample(train_files.shape[0])\n",
    "train_cv_ind = cv_prob < 0.75\n",
    "test_cv_ind = cv_prob >= 0.75\n",
    "X_train, y_train = train_files[train_cv_ind, :, :], train_labels[train_cv_ind]\n",
    "X_test, y_test = train_files[test_cv_ind, :, :], train_labels[test_cv_ind]\n",
    "\n",
    "print(X_train.shape, y_train.shape)\n",
    "print(X_test.shape, y_test.shape)\n"
   ]
  },
  {
   "cell_type": "code",
   "execution_count": 45,
   "metadata": {},
   "outputs": [
    {
     "name": "stdout",
     "output_type": "stream",
     "text": [
      "X_train shape: (4681, 1, 20, 20)\n4681 train samples\n1602 test samples\n"
     ]
    }
   ],
   "source": [
    "\"\"\"\n",
    "Compile Model\n",
    "\"\"\"\n",
    "\n",
    "from keras.datasets import mnist\n",
    "from keras.models import Sequential\n",
    "from keras.layers.core import Dense, Dropout, Activation, Flatten\n",
    "from keras.layers.convolutional import Convolution2D, MaxPooling2D\n",
    "from keras.utils import np_utils\n",
    "\n",
    "np.random.seed(1337)  # for reproducibility\n",
    "\n",
    "batch_size = 128\n",
    "nb_classes = 62\n",
    "nb_epoch = 12\n",
    "\n",
    "# input image dimensions\n",
    "img_rows, img_cols = 20, 20\n",
    "# number of convolutional filters to use\n",
    "nb_filters = 32\n",
    "# size of pooling area for max pooling\n",
    "nb_pool = 2\n",
    "# convolution kernel size\n",
    "nb_conv = 3\n",
    "\n",
    "# the data, shuffled and split between train and test sets\n",
    "# (X_train, y_train), (X_test, y_test) = mnist.load_data()\n",
    "X_train = X_train.reshape(X_train.shape[0], 1, img_rows, img_cols)\n",
    "X_test = X_test.reshape(X_test.shape[0], 1, img_rows, img_cols)\n",
    "X_train = X_train.astype('float32')\n",
    "X_test = X_test.astype('float32')\n",
    "X_train /= 255\n",
    "X_test /= 255\n",
    "print('X_train shape:', X_train.shape)\n",
    "print(X_train.shape[0], 'train samples')\n",
    "print(X_test.shape[0], 'test samples')\n",
    "\n",
    "# convert class vectors to binary class matrices\n",
    "Y_train = np_utils.to_categorical(y_train, nb_classes)\n",
    "Y_test = np_utils.to_categorical(y_test, nb_classes)\n",
    "\n",
    "model = Sequential()\n",
    "\n",
    "model.add(Convolution2D(nb_filters, nb_conv, nb_conv,\n",
    "                        border_mode='valid',\n",
    "                        input_shape=(1, img_rows, img_cols)))\n",
    "model.add(Activation('relu'))\n",
    "model.add(Convolution2D(nb_filters, nb_conv, nb_conv))\n",
    "model.add(Activation('relu'))\n",
    "model.add(MaxPooling2D(pool_size=(nb_pool, nb_pool)))\n",
    "model.add(Dropout(0.25))\n",
    "\n",
    "model.add(Flatten())\n",
    "model.add(Dense(128))\n",
    "model.add(Activation('relu'))\n",
    "model.add(Dropout(0.5))\n",
    "model.add(Dense(nb_classes))\n",
    "model.add(Activation('softmax'))\n",
    "\n",
    "model.compile(loss='categorical_crossentropy', optimizer='adadelta')\n",
    "\n"
   ]
  },
  {
   "cell_type": "code",
   "execution_count": null,
   "metadata": {},
   "outputs": [],
   "source": [
    "\"\"\"\n",
    "CV model\n",
    "\"\"\"\n",
    "model.fit(X_train, Y_train, batch_size=batch_size, nb_epoch=nb_epoch,\n",
    "          show_accuracy=True, verbose=1, validation_data=(X_test, Y_test))\n",
    "score = model.evaluate(X_test, Y_test, show_accuracy=True, verbose=0)\n",
    "print('Test score:', score[0])\n",
    "print('Test accuracy:', score[1])\n",
    "\n",
    "predicted_results = model.predict(X_test, batch_size=batch_size, verbose=1)[:, 1]\n",
    "print(predicted_results)\n"
   ]
  },
  {
   "cell_type": "code",
   "execution_count": null,
   "outputs": [],
   "source": [
    ""
   ]
  }
 ],
 "metadata": {
  "kernelspec": {
   "display_name": "Python 2",
   "language": "python",
   "name": "python2"
  },
  "language_info": {
   "codemirror_mode": {
    "name": "ipython",
    "version": 2.0
   },
   "file_extension": ".py",
   "mimetype": "text/x-python",
   "name": "python",
   "nbconvert_exporter": "python",
   "pygments_lexer": "ipython2",
   "version": "2.7.6"
  }
 },
 "nbformat": 4,
 "nbformat_minor": 0
}